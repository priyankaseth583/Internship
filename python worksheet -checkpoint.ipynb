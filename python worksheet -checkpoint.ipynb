{
 "cells": [
  {
   "cell_type": "markdown",
   "id": "df4455f5",
   "metadata": {},
   "source": [
    "PYTHON PROGRAM TO FIND FACTORIAL OF A NUMBER"
   ]
  },
  {
   "cell_type": "code",
   "execution_count": null,
   "id": "e1456797",
   "metadata": {},
   "outputs": [],
   "source": [
    "#TAke the input from the user\n",
    "num=int(input('Enter a number:'))\n",
    "factorial=1\n",
    "#check if the number is negative, positive or zero\n",
    "if num < 0:\n",
    "    print('Sorry, factorial does not exist for negative numbers')\n",
    "elif num ==0:\n",
    "    print('The factorial of 0 is 1')\n",
    "else:\n",
    "    for i in range(1,num +1):\n",
    "        factorial=factorial*i\n",
    "    print ('The factorial of',num,\"is\",factorial)    "
   ]
  },
  {
   "cell_type": "markdown",
   "id": "4beef15c",
   "metadata": {},
   "source": [
    "Python program to find whether a number is prime or composite."
   ]
  },
  {
   "cell_type": "code",
   "execution_count": null,
   "id": "6b2466e0",
   "metadata": {},
   "outputs": [],
   "source": [
    "n=int(input(\"Enter any number:\"))\n",
    "if(n==0 or n==1):\n",
    "    print(n,\"Number is either prime nor composite\")\n",
    "elif n>1 :\n",
    "    for i in range (2,n):\n",
    "        if(n%i==0):\n",
    "            print(n,\"is not prime but composite number\")\n",
    "            break\n",
    "    else:\n",
    "        print(n,\"number is prime but not composite number\")\n",
    "else:\n",
    "    print(\"please enter positive number only\")"
   ]
  },
  {
   "cell_type": "markdown",
   "id": "a8e9f75d",
   "metadata": {},
   "source": [
    "Python program to check whether a given string is palindrome or not"
   ]
  },
  {
   "cell_type": "code",
   "execution_count": null,
   "id": "0d374fec",
   "metadata": {},
   "outputs": [],
   "source": []
  },
  {
   "cell_type": "markdown",
   "id": "dd3321cb",
   "metadata": {},
   "source": [
    "Python program to get the third side of right-angled triangle from two given sides"
   ]
  },
  {
   "cell_type": "code",
   "execution_count": null,
   "id": "8bffcc62",
   "metadata": {},
   "outputs": [],
   "source": [
    "import math\n",
    "a = float(input(\"Enter base: \"))\n",
    "b= float(input(\"Enter height: \"))\n",
    "x= float(input(\"Enter angle: \"))\n",
    "\n",
    "c=math.sqrt(a**2 + b**2)\n",
    "print(\"Hypotenuse=\",c)"
   ]
  },
  {
   "cell_type": "markdown",
   "id": "5c2a5993",
   "metadata": {},
   "source": [
    " A python program to print the frequency of each of the characters present in a given string."
   ]
  },
  {
   "cell_type": "code",
   "execution_count": null,
   "id": "40152bc4",
   "metadata": {},
   "outputs": [],
   "source": [
    "string=input(\"Enter the string:\")\n",
    "char=input(\"please enter the char to find frequency of ta character\\n\")\n",
    "count=0\n",
    "for i in range(len(string)):\n",
    "    if(string[i]==char):\n",
    "        count=count+1\n",
    "print(\"the frequency of the \",char,\"in the string is:\",count)        "
   ]
  }
 ],
 "metadata": {
  "kernelspec": {
   "display_name": "Python 3",
   "language": "python",
   "name": "python3"
  },
  "language_info": {
   "codemirror_mode": {
    "name": "ipython",
    "version": 3
   },
   "file_extension": ".py",
   "mimetype": "text/x-python",
   "name": "python",
   "nbconvert_exporter": "python",
   "pygments_lexer": "ipython3",
   "version": "3.8.8"
  }
 },
 "nbformat": 4,
 "nbformat_minor": 5
}
